{
 "cells": [
  {
   "attachments": {},
   "cell_type": "markdown",
   "metadata": {},
   "source": [
    "# Count Orders by Grouping Results"
   ]
  },
  {
   "cell_type": "code",
   "execution_count": 1,
   "metadata": {},
   "outputs": [],
   "source": [
    "#location of excel file\n",
    "target_location = r'C:\\\\pathdata.xlsx'\n",
    "#name of the sheet\n",
    "s_n = \"DATA\"\n",
    "output_location = r'C:\\\\pathdataout.xlsx'"
   ]
  },
  {
   "cell_type": "code",
   "execution_count": 2,
   "metadata": {},
   "outputs": [],
   "source": [
    "import pandas as pd\n",
    "#read_file = pd.read_csv (target_location, engine = 'python', dtype = 'str', delimiter= '|')\n",
    "dataframe_1 = pd.read_excel (target_location, dtype = 'str', sheet_name= s_n)"
   ]
  },
  {
   "cell_type": "code",
   "execution_count": 3,
   "metadata": {},
   "outputs": [],
   "source": [
    "# This is how the results are grouped (using event codes of results)\n",
    "dictionary_1 = {\n",
    "\"Total of FBE\": [\"4054683\"]\t\t\t\t\t\t\t\n",
    ",\n",
    "\"Total of UEC\":\n",
    "    [\n",
    "    \"4053577\"\n",
    "    ,\"4053428\"\n",
    "    ,\"4052753\"\n",
    "    ,\"4052629\"\n",
    "    ,\"4054350\"\n",
    "    ,\"97136118\"\n",
    "    ,\"2700655\"\n",
    "    ]\n",
    ",\n",
    "\"Total of LFT\":\n",
    "    [\n",
    "    \"4052635\"   \n",
    "    ,\"4052500\"  \n",
    "    ,\"4052612\"  \n",
    "    ,\"4052496\"  \n",
    "    ,\"4053255\"  \n",
    "    ,\"4053736\"  \n",
    "    ,\"4052489\"  \n",
    "    ,\"4053257\"  \n",
    "    ]\n",
    ",\n",
    "\"Total of CMP\":\n",
    "    [\n",
    "    \"4052668\"\n",
    "    ,\"4052683\"\n",
    "    ,\"4053675\"\n",
    "    ,\"4053554\"\n",
    "    ]\n",
    ",\t\t\n",
    "\"Total of Blood Gas\":[\"11340886\"]\n",
    ",\n",
    "\"Total of Coagultion Studies\":[\"9641993\"]\n",
    ",\n",
    "\"Total of Thyroid Function Tests (TFT)\":[\"12781681\"]\n",
    ",\n",
    "\"Total of Iron Studies\":[\"9641618\"]\n",
    ",\n",
    "\"Total of HBA1C\": [\"11340917\"]\n",
    ",\t\t\t\t\t\t\t\n",
    "\"Total of Vitamin D\":[\"12781698\"]\t\n",
    "}\n",
    "\n",
    "\n",
    "\n",
    "dictionary_2 = {\n",
    "    \"Hormones\" : \n",
    "        [\n",
    "        \"4053478\"\n",
    "        ,\"4053215\"\n",
    "        ,\"4053036\"\n",
    "        ,\"4053900\"\n",
    "        ,\"4053843\"\n",
    "        ,\"4053743\"\n",
    "        ]\n",
    "    ,\n",
    "    \"Tumour Markers\" :\n",
    "        [\n",
    "        \"127824840\"\n",
    "        ,\"12781700\"\n",
    "        ,\"83526478\"\n",
    "        ,\"83526473\"\n",
    "        ]\n",
    "    ,\n",
    "    \"Coagulation\":\n",
    "        [\n",
    "        \"9375447\"\n",
    "        ,\"40544796\"\n",
    "        ,\"4054684\"\n",
    "        ]   \n",
    "}"
   ]
  },
  {
   "cell_type": "code",
   "execution_count": 4,
   "metadata": {},
   "outputs": [
    {
     "name": "stdout",
     "output_type": "stream",
     "text": [
      "Number of results in original file:  37911\n",
      "Number of results that are codes looked at:  13390\n"
     ]
    }
   ],
   "source": [
    "# Count Total Results\n",
    "raw_data_rows = dataframe_1.shape[0]\n",
    "\n",
    "# List of Event codes that are in the dictionary_1\n",
    "concatenated_list = []\n",
    "# Iterate over the dictionary values and use the extend method to concatenate the lists\n",
    "for values in dictionary_1.values():\n",
    "    concatenated_list.extend(values)\n",
    "\n",
    "concatenated_list_2 = []\n",
    "# Iterate over the dictionary values and use the extend method to concatenate the lists\n",
    "for values in dictionary_2.values():\n",
    "    concatenated_list.extend(values)\n",
    "\n",
    "dataframe_2 = dataframe_1[dataframe_1['EVENT-CODE'].isin(concatenated_list)]\n",
    "analysed_data_rows_1 = dataframe_2.shape[0]\n",
    "\n",
    "dataframe_3 = dataframe_1[dataframe_1['EVENT-CODE'].isin(concatenated_list_2)]\n",
    "analysed_data_rows_2 = dataframe_3.shape[0]\n",
    "\n",
    "print('Number of results in original file: ', raw_data_rows)\n",
    "print('Number of results that are codes looked at in pass 1: ', analysed_data_rows_1)\n",
    "print('Number of results that are codes looked at in pass 2: ', analysed_data_rows_2)"
   ]
  },
  {
   "cell_type": "code",
   "execution_count": 18,
   "metadata": {},
   "outputs": [],
   "source": [
    "dictionary_counts = {\"ITEM\":\"COUNT\"}\n",
    "\n",
    "# Loop through each type of test and count the results for that test.\n",
    "for key, value in dictionary_1.items():\n",
    "    # Create a dataframe filtered with only tests for the orders in the key\n",
    "    temp_tests_df = dataframe_1[dataframe_1['EVENT-CODE'].isin(value)]\n",
    "\n",
    "    #variable for counting\n",
    "    temp_count_order = int(0)\n",
    "    \n",
    "    # Get a list of all unique test samples patient id and datetime keys\n",
    "    unique_test_batches = temp_tests_df['PATIENT-ID-AND-DT'].unique()\n",
    "    \n",
    "    for a_batch_key in unique_test_batches:\n",
    "        #create a temporary dataframe of all the results with just that combination of datetime and patientid\n",
    "        df_temp_filtered = temp_tests_df[temp_tests_df['PATIENT-ID-AND-DT'] == a_batch_key]\n",
    "        # Check if all elements are in the list\n",
    "        TF_bool = all(elem in df_temp_filtered['EVENT-CODE'].values for elem in value)\n",
    "        if TF_bool == True:\n",
    "            temp_count_order += 1\n",
    "    dictionary_counts[key] = temp_count_order"
   ]
  },
  {
   "cell_type": "code",
   "execution_count": null,
   "metadata": {},
   "outputs": [],
   "source": [
    "# Loop through each type of test and count the results for that test using if conditions\n",
    "for key, value in dictionary_2.items():\n",
    "    # Create a dataframe filtered with only tests for the orders in the key\n",
    "    temp_tests_df = dataframe_1[dataframe_1['EVENT-CODE'].isin(value)]\n",
    "\n",
    "    #variable for counting a tests of the given key\n",
    "    temp_count_order = int(0)\n",
    "    \n",
    "    # Get a list of all unique test samples patient id and datetime keys\n",
    "    unique_test_batches = temp_tests_df['PATIENT-ID-AND-DT'].unique()\n",
    "    \n",
    "    for a_batch_key in unique_test_batches:\n",
    "        #create a temporary dataframe of all the results with just that combination of datetime and patientid\n",
    "        df_temp_filtered = temp_tests_df[temp_tests_df['PATIENT-ID-AND-DT'] == a_batch_key]\n",
    "        # Check if all elements are in the list\n",
    "        TF_bool = all(elem in df_temp_filtered['EVENT-CODE'].values for elem in value)\n",
    "        if TF_bool == True:\n",
    "            temp_count_order += 1\n",
    "    \n",
    "    dictionary_counts[key] = temp_count_order\n",
    "\n",
    "    if key "
   ]
  },
  {
   "cell_type": "code",
   "execution_count": 19,
   "metadata": {},
   "outputs": [
    {
     "name": "stdout",
     "output_type": "stream",
     "text": [
      "ITEM COUNT\n",
      "Total FBE 1013\n",
      "Total UEC 715\n",
      "Total LFT 573\n",
      "Total CMP 381\n",
      "Total Blood Gas 30\n",
      "Total Coagultion Studies 70\n",
      "Total Thyroid Function Test (TFT) 168\n",
      "Total Iron Studies 188\n",
      "Total HBA1C 131\n",
      "Total Vitamin D 109\n"
     ]
    }
   ],
   "source": [
    "for key, value in dictionary_counts.items():\n",
    "    print(key, value)"
   ]
  }
 ],
 "metadata": {
  "kernelspec": {
   "display_name": "Python 3",
   "language": "python",
   "name": "python3"
  },
  "language_info": {
   "codemirror_mode": {
    "name": "ipython",
    "version": 3
   },
   "file_extension": ".py",
   "mimetype": "text/x-python",
   "name": "python",
   "nbconvert_exporter": "python",
   "pygments_lexer": "ipython3",
   "version": "3.9.13"
  },
  "orig_nbformat": 4,
  "vscode": {
   "interpreter": {
    "hash": "0d8a354d9faeed0e741e88709d0ca4cfdcbab2911b6a97752e1a88b65797b277"
   }
  }
 },
 "nbformat": 4,
 "nbformat_minor": 2
}
