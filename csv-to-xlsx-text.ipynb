{
 "cells": [
  {
   "cell_type": "markdown",
   "metadata": {},
   "source": [
    "### Initial Conditions"
   ]
  },
  {
   "cell_type": "code",
   "execution_count": 4,
   "metadata": {},
   "outputs": [],
   "source": [
    "target_location = r'\\\\whoffice\\shared\\\\EMR\\BAU\\Audit Spreadsheets\\\\Multum audits\\\\2212 Multum\\\\amt-20221231.csv'\n",
    "output_location = r'\\\\whoffice\\shared\\\\EMR\\BAU\\Audit Spreadsheets\\\\Multum audits\\\\2212 Multum\\\\amt-20221231.xlsx'"
   ]
  },
  {
   "cell_type": "code",
   "execution_count": 5,
   "metadata": {},
   "outputs": [],
   "source": [
    "import pandas as pd\n",
    "#read_file = pd.read_csv (target_location, engine = 'python', dtype = 'str', delimiter= '|')\n",
    "read_file = pd.read_csv (target_location, engine = 'python', dtype = 'str')\n",
    "read_file.to_excel (output_location, index = None, header=True)"
   ]
  }
 ],
 "metadata": {
  "interpreter": {
   "hash": "99ab24223154bc81de56fc605a85b0e4b0e8fba2ce28055bc07242989cabcf2f"
  },
  "kernelspec": {
   "display_name": "Python 3.9.7 ('base')",
   "language": "python",
   "name": "python3"
  },
  "language_info": {
   "codemirror_mode": {
    "name": "ipython",
    "version": 3
   },
   "file_extension": ".py",
   "mimetype": "text/x-python",
   "name": "python",
   "nbconvert_exporter": "python",
   "pygments_lexer": "ipython3",
   "version": "3.9.12 (main, Apr  4 2022, 05:22:27) [MSC v.1916 64 bit (AMD64)]"
  },
  "orig_nbformat": 4
 },
 "nbformat": 4,
 "nbformat_minor": 2
}
