{
 "cells": [
  {
   "cell_type": "code",
   "execution_count": 1,
   "metadata": {},
   "outputs": [],
   "source": [
    "target_location = r'C:\\\\pathdata.xlsx'\n",
    "output_location = r'C:\\\\pathdataout.xlsx'"
   ]
  },
  {
   "cell_type": "code",
   "execution_count": 2,
   "metadata": {},
   "outputs": [],
   "source": [
    "#Lists\n",
    "FBE = [\"4054683\"]\t\t\t\t\t\t\t\n",
    "\n",
    "UEC =[\n",
    "\"4053577\"\n",
    ",\"4053428\"\n",
    ",\"4052753\"\n",
    ",\"4052629\"\n",
    ",\"4054350\"\n",
    ",\"97136118\"\n",
    ",\"2700655\"\n",
    "]\n",
    "\n",
    "LFT =[\n",
    "\"4052635\"\n",
    ",\"4052500\"\n",
    ",\"4052612\"\n",
    ",\"4052496\"\n",
    ",\"4053255\"\n",
    ",\"4053736\"\n",
    ",\"4052489\"\n",
    ",\"4053257\"\n",
    "]\n",
    "\n",
    "CMP = [\n",
    "\"4052668\"\n",
    ",\"4052683\"\n",
    ",\"4053675\"\n",
    ",\"4053554\"\n",
    "    ]\n",
    "\t\t\n",
    "BG = [\"11340886\"]\n",
    "\n",
    "CS = [\"9641993\"]\n",
    "\n",
    "TFT = [\"12781681\"]\n",
    "\n",
    "IS = [\"9641618\"]\n",
    "\n",
    "HBA1C = [\"11340917\"]\n",
    "\t\t\t\t\t\t\t\n",
    "VitD = [\"12781698\"]\t"
   ]
  },
  {
   "cell_type": "code",
   "execution_count": 8,
   "metadata": {},
   "outputs": [],
   "source": [
    "import pandas as pd\n",
    "#read_file = pd.read_csv (target_location, engine = 'python', dtype = 'str', delimiter= '|')\n",
    "dataframe_1 = pd.read_excel (target_location, dtype = 'str', sheet_name=\"DATA\")\n",
    "#read_file.to_excel (output_location, index = None, header=True)"
   ]
  },
  {
   "cell_type": "code",
   "execution_count": 20,
   "metadata": {},
   "outputs": [
    {
     "name": "stdout",
     "output_type": "stream",
     "text": [
      "715\n"
     ]
    }
   ],
   "source": [
    "# Create a dataframe filtered with only UEC tests\n",
    "UEC_tests_df = dataframe_1[dataframe_1['EVENT-CODE'].isin(UEC)]\n",
    "\n",
    "#variable for counting UEC tests\n",
    "count_UEC = int(0)\n",
    "\n",
    "# Get a list of all unique test samples patient id and datetime keys\n",
    "unique_test_batches = UEC_tests_df['PATIENT-ID-AND-DT'].unique()\n",
    "\n",
    "for a_batch_key in unique_test_batches:\n",
    "    #create a temporary dataframe of all the results with just that combination of datetime and patientid\n",
    "    #df_temp_filtered = UEC_tests_df[UEC_tests_df['EVENT-CODE'].isin(UEC)]\n",
    "    df_temp_filtered = UEC_tests_df[UEC_tests_df['PATIENT-ID-AND-DT'] == a_batch_key]\n",
    "    # Check if all elements are in the list\n",
    "    TF_bool = all(elem in df_temp_filtered['EVENT-CODE'].values for elem in UEC)\n",
    "    if TF_bool == True:\n",
    "        count_UEC += 1\n",
    "\n",
    "print(count_UEC)"
   ]
  },
  {
   "cell_type": "code",
   "execution_count": 16,
   "metadata": {},
   "outputs": [
    {
     "name": "stdout",
     "output_type": "stream",
     "text": [
      "0    False\n",
      "1     True\n",
      "2    False\n",
      "3     True\n",
      "4    False\n",
      "Name: A, dtype: bool\n",
      "True\n"
     ]
    }
   ],
   "source": [
    "import pandas as pd\n",
    "\n",
    "# Create a sample DataFrame\n",
    "df = pd.DataFrame({'A': [1, 2, 3, 4, 5], 'B': [5, 6, 7, 8, 9]})\n",
    "\n",
    "# Create a sample list\n",
    "my_list = [2, 4]\n",
    "\n",
    "# Check if all items in the list are in column 'A' of the DataFrame\n",
    "result = df['A'].isin(my_list)\n",
    "\n",
    "# Print the result\n",
    "print(result)\n",
    "result = all(elem in df['A'].values for elem in my_list)\n",
    "print(result)"
   ]
  },
  {
   "cell_type": "code",
   "execution_count": 14,
   "metadata": {},
   "outputs": [],
   "source": [
    "dictionary_1 = {\n",
    "\"FBE\": [\"4054683\"]\t\t\t\t\t\t\t\n",
    ",\n",
    "\"UEC\":[\n",
    "    \"4053577\"\n",
    "    ,\"4053428\"\n",
    "    ,\"4052753\"\n",
    "    ,\"4052629\"\n",
    "    ,\"4054350\"\n",
    "    ,\"97136118\"\n",
    "    ,\"2700655\"\n",
    "]\n",
    ",\n",
    "\"LFT\":[\n",
    "    \"4052635\"   \n",
    "    ,\"4052500\"  \n",
    "    ,\"4052612\"  \n",
    "    ,\"4052496\"  \n",
    "    ,\"4053255\"  \n",
    "    ,\"4053736\"  \n",
    "    ,\"4052489\"  \n",
    "    ,\"4053257\"  \n",
    "]\n",
    ",\n",
    "\"CMP\":[\n",
    "    \"4052668\"\n",
    "    ,\"4052683\"\n",
    "    ,\"4053675\"\n",
    "    ,\"4053554\"\n",
    "    ]\n",
    ",\t\t\n",
    "\"BG\":[\"11340886\"]\n",
    ",\n",
    "\"CS\":[\"9641993\"]\n",
    ",\n",
    "\"TFT\":[\"12781681\"]\n",
    ",\n",
    "\"IS\":[\"9641618\"]\n",
    ",\n",
    "\"HBA1C\": [\"11340917\"]\n",
    ",\t\t\t\t\t\t\t\n",
    "\"VitD\":[\"12781698\"]\t\n",
    "}"
   ]
  }
 ],
 "metadata": {
  "kernelspec": {
   "display_name": "Python 3",
   "language": "python",
   "name": "python3"
  },
  "language_info": {
   "codemirror_mode": {
    "name": "ipython",
    "version": 3
   },
   "file_extension": ".py",
   "mimetype": "text/x-python",
   "name": "python",
   "nbconvert_exporter": "python",
   "pygments_lexer": "ipython3",
   "version": "3.9.13"
  },
  "orig_nbformat": 4,
  "vscode": {
   "interpreter": {
    "hash": "0d8a354d9faeed0e741e88709d0ca4cfdcbab2911b6a97752e1a88b65797b277"
   }
  }
 },
 "nbformat": 4,
 "nbformat_minor": 2
}
