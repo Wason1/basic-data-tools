{
 "cells": [
  {
   "attachments": {},
   "cell_type": "markdown",
   "metadata": {},
   "source": [
    "# Count Orders by Grouping Results"
   ]
  },
  {
   "cell_type": "code",
   "execution_count": 11,
   "metadata": {},
   "outputs": [],
   "source": [
    "#location of excel file\n",
    "target_location = r'C:\\\\pathdata-2022-UEC.xlsx'\n",
    "#name of the sheet\n",
    "s_n = \"DATA\"\n",
    "output_location = r'C:\\\\pathdata-2022-UEC-output.xlsx'"
   ]
  },
  {
   "cell_type": "code",
   "execution_count": 12,
   "metadata": {},
   "outputs": [],
   "source": [
    "import pandas as pd\n",
    "#read_file = pd.read_csv (target_location, engine = 'python', dtype = 'str', delimiter= '|')\n",
    "dataframe_1 = pd.read_excel(target_location, dtype = 'str', sheet_name= s_n)"
   ]
  },
  {
   "cell_type": "code",
   "execution_count": 13,
   "metadata": {},
   "outputs": [],
   "source": [
    "# This is how the results are grouped (using event codes of results)\n",
    "dictionary_1 = {\n",
    "\"Total of UEC\":\n",
    "    [\n",
    "    \"4053577\"\n",
    "    ,\"4053428\"\n",
    "    ,\"4052753\"\n",
    "    ,\"4052629\"\n",
    "    ,\"4054350\"\n",
    "    ,\"97136118\"\n",
    "    ,\"2700655\"\n",
    "    ]\n",
    "}"
   ]
  },
  {
   "cell_type": "code",
   "execution_count": 14,
   "metadata": {},
   "outputs": [
    {
     "name": "stdout",
     "output_type": "stream",
     "text": [
      "Number of results in original file:  213422\n"
     ]
    }
   ],
   "source": [
    "# Count Total Results\n",
    "raw_data_rows = dataframe_1.shape[0]\n",
    "\n",
    "# List of Event codes that are in the dictionary_1\n",
    "concatenated_list = []\n",
    "# Iterate over the dictionary values and use the extend method to concatenate the lists\n",
    "for values in dictionary_1.values():\n",
    "    concatenated_list.extend(values)\n",
    "\n",
    "print('Number of results in original file: ', raw_data_rows)"
   ]
  },
  {
   "cell_type": "code",
   "execution_count": 15,
   "metadata": {},
   "outputs": [],
   "source": [
    "dictionary_counts = {\"ITEM\":\"COUNT\"}\n",
    "\n",
    "# Loop through each type of tests in dictionary_1 and count the results for that test.\n",
    "for key, value in dictionary_1.items():\n",
    "    # Create a dataframe filtered with only tests for the orders in the key\n",
    "    temp_tests_df = dataframe_1[dataframe_1['EVENT_CODE'].isin(value)]\n",
    "\n",
    "    #variable for counting\n",
    "    temp_count_order = int(0)\n",
    "    \n",
    "    # Get a list of all unique test samples patient id and datetime keys\n",
    "    unique_test_batches = temp_tests_df['PATIENT_ID_AND_DT'].unique()\n",
    "    \n",
    "    for a_batch_key in unique_test_batches:\n",
    "        #create a temporary dataframe of all the results with just that combination of datetime and patientid\n",
    "        df_temp_filtered = temp_tests_df[temp_tests_df['PATIENT_ID_AND_DT'] == a_batch_key]\n",
    "        # Check if all elements are in the list\n",
    "        TF_bool = all(elem in df_temp_filtered['EVENT_CODE'].values for elem in value)\n",
    "        if TF_bool == True:\n",
    "            temp_count_order += 1\n",
    "    dictionary_counts[key] = temp_count_order"
   ]
  },
  {
   "cell_type": "code",
   "execution_count": 16,
   "metadata": {},
   "outputs": [
    {
     "name": "stdout",
     "output_type": "stream",
     "text": [
      "ITEM COUNT\n",
      "Total of UEC 29627\n"
     ]
    }
   ],
   "source": [
    "for key, value in dictionary_counts.items():\n",
    "    print(key, value)"
   ]
  },
  {
   "cell_type": "code",
   "execution_count": 55,
   "metadata": {},
   "outputs": [],
   "source": [
    "# Export the dictionary to Excel\n",
    "df = pd.DataFrame.from_dict(dictionary_counts,orient='index')\n",
    "df.to_excel(output_location)"
   ]
  }
 ],
 "metadata": {
  "kernelspec": {
   "display_name": "Python 3",
   "language": "python",
   "name": "python3"
  },
  "language_info": {
   "codemirror_mode": {
    "name": "ipython",
    "version": 3
   },
   "file_extension": ".py",
   "mimetype": "text/x-python",
   "name": "python",
   "nbconvert_exporter": "python",
   "pygments_lexer": "ipython3",
   "version": "3.9.13 (tags/v3.9.13:6de2ca5, May 17 2022, 16:36:42) [MSC v.1929 64 bit (AMD64)]"
  },
  "orig_nbformat": 4,
  "vscode": {
   "interpreter": {
    "hash": "0d8a354d9faeed0e741e88709d0ca4cfdcbab2911b6a97752e1a88b65797b277"
   }
  }
 },
 "nbformat": 4,
 "nbformat_minor": 2
}
